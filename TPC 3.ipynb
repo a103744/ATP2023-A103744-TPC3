{
 "cells": [
  {
   "cell_type": "markdown",
   "metadata": {},
   "source": [
    "#TPC 3: Advinha o número\n",
    "\n",
    "Desenvolve em Python o código necessário para o jogo do Advinha o número. O jogo deverá ter dois modos: o computador tenta acertar no número que o jogadpr pensou ou, o jogador tenta acertar no número que o computador pensou. No fim, o programa deverá indicar quantas tentativas foram realizadas para chegar ao resultado.\n",
    "\n",
    "Que conclusão podeds tirar sobre o número de tentativas necessárias para um número entre 0 e 100? E se fosse entre O e 1000?"
   ]
  },
  {
   "cell_type": "code",
   "execution_count": 5,
   "metadata": {},
   "outputs": [
    {
     "name": "stdout",
     "output_type": "stream",
     "text": [
      "O número que pensou foi o 50 e acertou em 1  tentativas\n"
     ]
    }
   ],
   "source": [
    "#computador tenta acertar no número que o jogadpr pensou\n",
    "n = 50\n",
    "tentativas = 1\n",
    "limS = 101\n",
    "limI = 0\n",
    "\n",
    "def calcula(limI, limS):\n",
    "    a = (limI + limS)/2\n",
    "    return int(a)\n",
    "\n",
    "res = str(input(\"o seu numero é 50? (A)acertou , (B)maior, (C)menor\"))\n",
    "\n",
    "if res == \"A\":\n",
    "    print (f\"O número que pensou foi o 50 e acertou em {tentativas }  tentativas\")\n",
    "else:\n",
    "     while res != \"A\":\n",
    "        if res == \"B\":\n",
    "         limS = limS\n",
    "         limI = n\n",
    "        else:\n",
    "         limS = n\n",
    "         limI = limI\n",
    "\n",
    "        n = calcula(limI, limS)\n",
    "        tentativas = tentativas + 1\n",
    "        res = str(input(\"o seu numero é \" + str(n) + \"? (A)acertou , (B)maior, (C)menor\"))\n",
    "     print (\"o número que pensou foi o \" + str(n) + \" e eu acertei em \" + str(tentativas) + \" tentativas\") "
   ]
  },
  {
   "cell_type": "code",
   "execution_count": 6,
   "metadata": {},
   "outputs": [
    {
     "name": "stdout",
     "output_type": "stream",
     "text": [
      "11\n",
      "Menor que 50\n",
      "Menor que 45\n",
      "Acertou em 3 tentativas\n"
     ]
    }
   ],
   "source": [
    "#o jogador tenta acertar no número que o computador pensou\n",
    "\n",
    "res = -1\n",
    "import random\n",
    "numero_aleatorio = random.randint(1, 101)\n",
    "while res != numero_aleatorio:\n",
    "    res = int(input(\"indique o seu palpite:\"))\n",
    "    if res == numero_aleatorio:\n",
    "        print (\"Acertou em \" + str(tentativas) + \" tentativas\")\n",
    "    else:    \n",
    "        if res < numero_aleatorio:\n",
    "            print (\"Maior que \" + str(res))\n",
    "        else:\n",
    "            print (\"Menor que \" + str(res))\n",
    "    tentativas = tentativas + 1"
   ]
  },
  {
   "cell_type": "markdown",
   "metadata": {},
   "source": [
    "Que conclusão podes tirar sobre o número de tentativas necessárias para um número entre 0 e 100? E se fosse entre O e 1000?\n",
    "\n",
    "O número de tentativas necessárias para encontrar o número entre 0 e 100 é relativamente baixo visto que se divide o intervalo de possibilidades ao meio a cada tentativa, reduzindo pela metade as opções em cada interação. Num intervalo de 0 a 1000, o número de tentativas seria maior do que no intervalo de 0 a 100 apesar de continuar um número relativamente baixo.\n",
    "Concluindo, quanto maior o intervalo, mais tentativas são necessárias em média para adivinhar o número."
   ]
  }
 ],
 "metadata": {
  "kernelspec": {
   "display_name": "Python 3",
   "language": "python",
   "name": "python3"
  },
  "language_info": {
   "codemirror_mode": {
    "name": "ipython",
    "version": 3
   },
   "file_extension": ".py",
   "mimetype": "text/x-python",
   "name": "python",
   "nbconvert_exporter": "python",
   "pygments_lexer": "ipython3",
   "version": "3.11.5"
  },
  "orig_nbformat": 4
 },
 "nbformat": 4,
 "nbformat_minor": 2
}
